{
 "cells": [
  {
   "cell_type": "code",
   "execution_count": null,
   "id": "39d64dfa",
   "metadata": {},
   "outputs": [],
   "source": []
  },
  {
   "cell_type": "code",
   "execution_count": null,
   "id": "ad4f8abd",
   "metadata": {},
   "outputs": [],
   "source": []
  },
  {
   "cell_type": "code",
   "execution_count": null,
   "id": "0536eba7",
   "metadata": {},
   "outputs": [],
   "source": []
  },
  {
   "cell_type": "code",
   "execution_count": null,
   "id": "c187c30c",
   "metadata": {},
   "outputs": [],
   "source": [
    "import pandas as pd \n",
    "import matplotlib.pyplot as plt\n",
    "\n",
    "#DATA HANDLING\n",
    "data=pd.read_csv(\"hackathon3.csv\")\n",
    "print(data.head())\n",
    "print(data.describe())\n",
    "x=data[[\"COMMUNICATION\",\"BEHAVIOUR\",\"TECHNOLOGY\",\"\",\"COLLABORATION\",\"ACCURACY\",\"SECURITY\",\"SATISFACTION\",\"SATISFIED\"]]\n",
    "y=data[\"SATISFACTION\"]\n",
    "y_=data[\"SATISFIED\"]\n",
    "\n",
    "#DATA ANALYSIS\n",
    "plt.scatter(x[\"COMMUNICATION\"],y,color='b')\n",
    "plt.xlabel(\"COMMUNICATION\")\n",
    "plt.ylabel(\"SATISFACTION\")\n",
    "plt.show()"
   ]
  },
  {
   "cell_type": "code",
   "execution_count": null,
   "id": "6586a342",
   "metadata": {},
   "outputs": [],
   "source": [
    "from sklearn.linear_model import LogisticRegression\n",
    "mdl=LogisticRegression()\n",
    "mdl.fit(x,y_)\n",
    "pred=mdl.predict(inps)\n",
    "print(\"Predicted value(LGR):\",pred[0])\n",
    "print(\"Accuracy(LGR):\",mdl.score(x[:100],y_[:100])*100)\n",
    "\n",
    "plt.scatter(x[\"Information\"],y_,color='b')\n",
    "plt.plot(x[\"Information\"],mdl.predict(x),color=\"black\",linewidth=3)\n",
    "plt.xlabel(\"Information\")\n",
    "plt.ylabel(\"Authenticity\")\n",
    "plt.show()"
   ]
  }
 ],
 "metadata": {
  "kernelspec": {
   "display_name": "Python 3 (ipykernel)",
   "language": "python",
   "name": "python3"
  },
  "language_info": {
   "codemirror_mode": {
    "name": "ipython",
    "version": 3
   },
   "file_extension": ".py",
   "mimetype": "text/x-python",
   "name": "python",
   "nbconvert_exporter": "python",
   "pygments_lexer": "ipython3",
   "version": "3.9.13"
  }
 },
 "nbformat": 4,
 "nbformat_minor": 5
}
